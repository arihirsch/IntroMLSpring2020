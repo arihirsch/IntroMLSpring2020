{
 "cells": [
  {
   "cell_type": "markdown",
   "metadata": {},
   "source": [
    "### MidTerm Assignment: notebook 2: Backpropagation (Total 25pts)"
   ]
  },
  {
   "cell_type": "markdown",
   "metadata": {},
   "source": [
    "\n",
    "<p><font color='red'><b>Given date : March 30</b></font></p>\n",
    "\n",
    "<font color='red'><b>Due date : April 17</b></font>\n"
   ]
  },
  {
   "cell_type": "markdown",
   "metadata": {},
   "source": [
    "<img src=\"backpropImage1.jpg\",width=400> "
   ]
  },
  {
   "cell_type": "markdown",
   "metadata": {},
   "source": [
    "### Question 1. Training the network through backpropagation (Total 22pts)\n",
    "\n",
    "In this exercise, you will get to apply what you learned on backpropagation. \n",
    "We are interested in learning a classifier for the dataset below. This dataset is similar to what we did in class in the on hidden layer case. The difference is that you now have to learn a neural network with __multiple hidden layers__. We want to train the network through a minimization of the binary cross entropy. We further want to consider an $\\ell_2$-regularizarion term on all the weights except the bias, of each neurons. "
   ]
  },
  {
   "cell_type": "code",
   "execution_count": 9,
   "metadata": {},
   "outputs": [
    {
     "data": {
      "image/png": "[encoded data removed]",
      "text/plain": [
       "<Figure size 432x288 with 1 Axes>"
      ]
     },
     "metadata": {},
     "output_type": "display_data"
    }
   ],
   "source": [
    "import matplotlib.pyplot as plt\n",
    "import numpy as np\n",
    "\n",
    "import scipy.io as sio\n",
    "data_class1 = sio.loadmat('Notebook1_Ex1_Class1.mat')\n",
    "data_class2 = sio.loadmat('Notebook1_Ex1_Class2.mat')\n",
    "\n",
    "data_class1 = data_class1['Notebook1_Ex1_Class1']\n",
    "data_class2 = data_class2['Notebook1_Ex1_Class2']\n",
    "\n",
    "plt.scatter(data_class1[:,0], data_class1[:,1], c = 'r')\n",
    "plt.scatter(data_class2[:,0], data_class2[:,1], c='b')\n",
    "plt.show()\n"
   ]
  },
  {
   "cell_type": "markdown",
   "metadata": {},
   "source": [
    "#### Question 1.1. (3pts) Start by coding the sigmoid activation function and its derivative"
   ]
  },
  {
   "cell_type": "code",
   "execution_count": null,
   "metadata": {
    "collapsed": true
   },
   "outputs": [],
   "source": [
    "\n",
    "# ================================================================================================\n",
    "# Step I : Activation \n",
    "# ================================================================================================\n",
    "\n",
    "\n",
    "def sigmoid(X):\n",
    "    \n",
    "    '''As in the one hidden layer case, start by defining a function that given a dataset \n",
    "    X return the value sigma(x) = 1/(1+e^{-x}) as well as the gradient of this function'''\n",
    "    \n",
    "    \n",
    "    \n",
    "    \n",
    "    return f, g\n",
    "\n"
   ]
  },
  {
   "cell_type": "markdown",
   "metadata": {},
   "source": [
    "#### Question 1.2. (6pts) Code the forward propagation of an input $X$ through a network with weights $W$"
   ]
  },
  {
   "cell_type": "code",
   "execution_count": null,
   "metadata": {
    "collapsed": true
   },
   "outputs": [],
   "source": [
    "\n",
    "# ================================================================================================\n",
    "# Step II : Forward Propagation\n",
    "# ================================================================================================\n",
    "\n",
    "\n",
    "\n",
    "def Forward_prop(X, w, network_size):\n",
    "    \n",
    "    '''Then we want to write the function that takes as input the dataset X \n",
    "    and the vector of targets t and returns the output to a network of size encoded \n",
    "    in network_size. Here network_size is a n_layer tuple in which each entry encode \n",
    "    the number of units in the layer. The output should be computed for the weight vector w'''\n",
    "    \n",
    "    \n",
    "    \n",
    "    \n",
    "    return net_output\n",
    "\n"
   ]
  },
  {
   "cell_type": "markdown",
   "metadata": {},
   "source": [
    "#### Question 1.3. (9pts) code the log-loss and its derivative through backpropagation"
   ]
  },
  {
   "cell_type": "code",
   "execution_count": null,
   "metadata": {
    "collapsed": true
   },
   "outputs": [],
   "source": [
    "\n",
    "# ================================================================================================\n",
    "# Step III : Binary cross entropy and backpropagation\n",
    "# ================================================================================================\n",
    "\n",
    "    \n",
    "    \n",
    "def Logloss(X, t, w, network_size):\n",
    "    \n",
    "    '''This function should return the value of the log loss as well as the gradient of that loss\n",
    "    gradient computation should rely on backpropagation.'''\n",
    "    \n",
    "    \n",
    "    \n",
    "    '''Start by forward propagating the inputs through the network'''\n",
    "    \n",
    "    \n",
    "    \n",
    "    \n",
    "    '''While you forward propagate, '''\n",
    "    \n",
    "    \n",
    "    \n",
    "    \n",
    "    \n",
    "    return loss, loss_grad\n",
    "\n",
    "\n"
   ]
  },
  {
   "cell_type": "markdown",
   "metadata": {},
   "source": [
    "#### Question 1.4. (4pts) Train your network using the minimize module from scipy. \n",
    "\n",
    "This modules requires you to specify the function Logloss wihch you coded above. The 'jac=True'parameter simply indicates that your function 'Logloss' should return both the loss that you want to minimize and the gradient of that loss. Minimize then apply gradient descent or a related optimization routine to this function.    "
   ]
  },
  {
   "cell_type": "code",
   "execution_count": null,
   "metadata": {
    "collapsed": true
   },
   "outputs": [],
   "source": [
    "\n",
    "# ================================================================================================\n",
    "# Step IV : Learning \n",
    "# ================================================================================================\n",
    "\n",
    "from scipy.optimize import minimize\n",
    "\n",
    "# Initialize your vector of weights with random gaussian weights \n",
    "\n",
    "\n",
    "# Then use the minimize module from scipy to train your network \n",
    "\n",
    "maxIter 500 # replace with your max number of iterations\n",
    "options = {'maxiter': maxIter}\n",
    "\n",
    "\n",
    "out = minimize(Logloss, w0, jac=True, method='TNC', options=options)\n",
    "\n",
    "Opti_weights = out.x\n",
    "    "
   ]
  },
  {
   "cell_type": "markdown",
   "metadata": {},
   "source": [
    "### Question 2. (3pts) Once your network has been trained, use meshgrid to display the classification boundary below"
   ]
  },
  {
   "cell_type": "code",
   "execution_count": 8,
   "metadata": {
    "collapsed": true
   },
   "outputs": [],
   "source": [
    "import numpy as np\n",
    "import matplotlib.pyplot as plt\n",
    "\n",
    "\n",
    "data = np.vstack((data_class1, data_class2))\n",
    "xmin = np.amin(data[:,0])\n",
    "xmax = np.amax(data[:,0])\n",
    "ymin = np.amin(data[:,1])\n",
    "ymax = np.amax(data[:,1])\n",
    "\n",
    "\n",
    "xequispaced = np.linspace(xmin, xmax, 100)\n",
    "yequispaced = np.linspace(ymin, ymax, 100)\n",
    "\n",
    "xx, yy = np.meshgrid(xequispaced, yequispaced)\n",
    "\n",
    "grid_data = np.vstack((xx.flatten(), yy.flatten())).T\n",
    "\n",
    "\n",
    "label_mesh = Forward_prop(X, Opti_weights, network_size) # use your forwardProp implementation\n"
   ]
  }
 ],
 "metadata": {
  "kernelspec": {
   "display_name": "Python 2",
   "language": "python",
   "name": "python2"
  },
  "language_info": {
   "codemirror_mode": {
    "name": "ipython",
    "version": 2
   },
   "file_extension": ".py",
   "mimetype": "text/x-python",
   "name": "python",
   "nbconvert_exporter": "python",
   "pygments_lexer": "ipython2",
   "version": "2.7.13"
  }
 },
 "nbformat": 4,
 "nbformat_minor": 2
}
